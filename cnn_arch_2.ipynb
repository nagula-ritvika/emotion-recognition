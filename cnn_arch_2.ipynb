{
 "cells": [
  {
   "cell_type": "code",
   "execution_count": 2,
   "metadata": {},
   "outputs": [
    {
     "name": "stderr",
     "output_type": "stream",
     "text": [
      "Using TensorFlow backend.\n"
     ]
    }
   ],
   "source": [
    "import data_utils as my_utils\n",
    "import cv2\n",
    "import dlib\n",
    "import itertools\n",
    "import matplotlib.pyplot as plt\n",
    "%matplotlib inline\n",
    "import numpy as np\n",
    "import pandas as pd\n",
    "\n",
    "import keras\n",
    "from keras.callbacks import ModelCheckpoint\n",
    "from keras.layers import Activation, BatchNormalization, Conv2D, Dense, Dropout, Flatten, Input, MaxPool2D\n",
    "from keras.models import Sequential, Model\n",
    "from keras.utils import np_utils\n",
    "from skimage.feature import hog\n",
    "import sklearn\n",
    "from sklearn.metrics import confusion_matrix"
   ]
  },
  {
   "cell_type": "code",
   "execution_count": 3,
   "metadata": {},
   "outputs": [],
   "source": [
    "df = pd.read_csv(\"fer2013.csv\")\n",
    "emotion_labels = {0: \"Angry\", 1: \"Disgust\", 2:\"Fear\", 3:\"Happy\", 4:\"Sad\", 5:\"Surprise\", 6:\"Neutral\"}\n",
    "labels = [\"Angry\", \"Disgust\", \"Fear\", \"Happy\", \"Sad\", \"Surprise\", \"Neutral\"]"
   ]
  },
  {
   "cell_type": "code",
   "execution_count": 4,
   "metadata": {
    "scrolled": true
   },
   "outputs": [
    {
     "data": {
      "text/html": [
       "<div>\n",
       "<style scoped>\n",
       "    .dataframe tbody tr th:only-of-type {\n",
       "        vertical-align: middle;\n",
       "    }\n",
       "\n",
       "    .dataframe tbody tr th {\n",
       "        vertical-align: top;\n",
       "    }\n",
       "\n",
       "    .dataframe thead th {\n",
       "        text-align: right;\n",
       "    }\n",
       "</style>\n",
       "<table border=\"1\" class=\"dataframe\">\n",
       "  <thead>\n",
       "    <tr style=\"text-align: right;\">\n",
       "      <th></th>\n",
       "      <th>emotion</th>\n",
       "      <th>pixels</th>\n",
       "      <th>Usage</th>\n",
       "    </tr>\n",
       "  </thead>\n",
       "  <tbody>\n",
       "    <tr>\n",
       "      <th>0</th>\n",
       "      <td>0</td>\n",
       "      <td>70 80 82 72 58 58 60 63 54 58 60 48 89 115 121...</td>\n",
       "      <td>Training</td>\n",
       "    </tr>\n",
       "    <tr>\n",
       "      <th>1</th>\n",
       "      <td>0</td>\n",
       "      <td>151 150 147 155 148 133 111 140 170 174 182 15...</td>\n",
       "      <td>Training</td>\n",
       "    </tr>\n",
       "    <tr>\n",
       "      <th>2</th>\n",
       "      <td>2</td>\n",
       "      <td>231 212 156 164 174 138 161 173 182 200 106 38...</td>\n",
       "      <td>Training</td>\n",
       "    </tr>\n",
       "    <tr>\n",
       "      <th>3</th>\n",
       "      <td>4</td>\n",
       "      <td>24 32 36 30 32 23 19 20 30 41 21 22 32 34 21 1...</td>\n",
       "      <td>Training</td>\n",
       "    </tr>\n",
       "    <tr>\n",
       "      <th>4</th>\n",
       "      <td>6</td>\n",
       "      <td>4 0 0 0 0 0 0 0 0 0 0 0 3 15 23 28 48 50 58 84...</td>\n",
       "      <td>Training</td>\n",
       "    </tr>\n",
       "  </tbody>\n",
       "</table>\n",
       "</div>"
      ],
      "text/plain": [
       "   emotion                                             pixels     Usage\n",
       "0        0  70 80 82 72 58 58 60 63 54 58 60 48 89 115 121...  Training\n",
       "1        0  151 150 147 155 148 133 111 140 170 174 182 15...  Training\n",
       "2        2  231 212 156 164 174 138 161 173 182 200 106 38...  Training\n",
       "3        4  24 32 36 30 32 23 19 20 30 41 21 22 32 34 21 1...  Training\n",
       "4        6  4 0 0 0 0 0 0 0 0 0 0 0 3 15 23 28 48 50 58 84...  Training"
      ]
     },
     "execution_count": 4,
     "metadata": {},
     "output_type": "execute_result"
    }
   ],
   "source": [
    "df.head()"
   ]
  },
  {
   "cell_type": "code",
   "execution_count": 5,
   "metadata": {},
   "outputs": [
    {
     "data": {
      "text/plain": [
       "Training       28709\n",
       "PrivateTest     3589\n",
       "PublicTest      3589\n",
       "Name: Usage, dtype: int64"
      ]
     },
     "execution_count": 5,
     "metadata": {},
     "output_type": "execute_result"
    }
   ],
   "source": [
    "df[\"Usage\"].value_counts()"
   ]
  },
  {
   "cell_type": "code",
   "execution_count": 6,
   "metadata": {},
   "outputs": [
    {
     "data": {
      "text/plain": [
       "3    8989\n",
       "6    6198\n",
       "4    6077\n",
       "2    5121\n",
       "0    4953\n",
       "5    4002\n",
       "1     547\n",
       "Name: emotion, dtype: int64"
      ]
     },
     "execution_count": 6,
     "metadata": {},
     "output_type": "execute_result"
    }
   ],
   "source": [
    "df[\"emotion\"].value_counts()"
   ]
  },
  {
   "cell_type": "code",
   "execution_count": 7,
   "metadata": {},
   "outputs": [
    {
     "data": {
      "text/plain": [
       "{0: 'Angry',\n",
       " 1: 'Disgust',\n",
       " 2: 'Fear',\n",
       " 3: 'Happy',\n",
       " 4: 'Sad',\n",
       " 5: 'Surprise',\n",
       " 6: 'Neutral'}"
      ]
     },
     "execution_count": 7,
     "metadata": {},
     "output_type": "execute_result"
    }
   ],
   "source": [
    "emotion_labels"
   ]
  },
  {
   "cell_type": "code",
   "execution_count": 8,
   "metadata": {},
   "outputs": [
    {
     "name": "stderr",
     "output_type": "stream",
     "text": [
      "/Users/ritvikareddy 1/Documents/GitHub/ml-project/venv/lib/python3.6/site-packages/pandas/core/frame.py:3697: SettingWithCopyWarning: \n",
      "A value is trying to be set on a copy of a slice from a DataFrame\n",
      "\n",
      "See the caveats in the documentation: http://pandas.pydata.org/pandas-docs/stable/indexing.html#indexing-view-versus-copy\n",
      "  errors=errors)\n",
      "/Users/ritvikareddy 1/Documents/GitHub/ml-project/data_utils.py:19: SettingWithCopyWarning: \n",
      "A value is trying to be set on a copy of a slice from a DataFrame.\n",
      "Try using .loc[row_indexer,col_indexer] = value instead\n",
      "\n",
      "See the caveats in the documentation: http://pandas.pydata.org/pandas-docs/stable/indexing.html#indexing-view-versus-copy\n",
      "  lambda pixel_str: np.fromstring(pixel_str, sep=' '))\n"
     ]
    }
   ],
   "source": [
    "# process the training, validation and test data\n",
    "x_train, y_train = my_utils.process_data(df, 'Training')\n",
    "x_validation, y_validation = my_utils.process_data(df, 'PublicTest')\n",
    "x_test, y_test = my_utils.process_data(df, \"PrivateTest\")"
   ]
  },
  {
   "cell_type": "code",
   "execution_count": 9,
   "metadata": {},
   "outputs": [],
   "source": [
    "# get face landmarks\n",
    "x_train_landmarks = my_utils.extract_landmark_features(x_train)\n",
    "x_validation_landmarks = my_utils.extract_landmark_features(x_validation)\n",
    "x_test_landmarks = my_utils.extract_landmark_features(x_test)"
   ]
  },
  {
   "cell_type": "code",
   "execution_count": 10,
   "metadata": {},
   "outputs": [
    {
     "name": "stdout",
     "output_type": "stream",
     "text": [
      "__________________________________________________________________________________________________\n",
      "Layer (type)                    Output Shape         Param #     Connected to                     \n",
      "==================================================================================================\n",
      "input_1 (InputLayer)            (None, 48, 48, 1)    0                                            \n",
      "__________________________________________________________________________________________________\n",
      "conv2d_1 (Conv2D)               (None, 46, 46, 64)   640         input_1[0][0]                    \n",
      "__________________________________________________________________________________________________\n",
      "batch_normalization_1 (BatchNor (None, 46, 46, 64)   256         conv2d_1[0][0]                   \n",
      "__________________________________________________________________________________________________\n",
      "max_pooling2d_1 (MaxPooling2D)  (None, 22, 22, 64)   0           batch_normalization_1[0][0]      \n",
      "__________________________________________________________________________________________________\n",
      "conv2d_2 (Conv2D)               (None, 20, 20, 128)  73856       max_pooling2d_1[0][0]            \n",
      "__________________________________________________________________________________________________\n",
      "batch_normalization_2 (BatchNor (None, 20, 20, 128)  512         conv2d_2[0][0]                   \n",
      "__________________________________________________________________________________________________\n",
      "max_pooling2d_2 (MaxPooling2D)  (None, 9, 9, 128)    0           batch_normalization_2[0][0]      \n",
      "__________________________________________________________________________________________________\n",
      "conv2d_3 (Conv2D)               (None, 7, 7, 256)    295168      max_pooling2d_2[0][0]            \n",
      "__________________________________________________________________________________________________\n",
      "batch_normalization_3 (BatchNor (None, 7, 7, 256)    1024        conv2d_3[0][0]                   \n",
      "__________________________________________________________________________________________________\n",
      "max_pooling2d_3 (MaxPooling2D)  (None, 3, 3, 256)    0           batch_normalization_3[0][0]      \n",
      "__________________________________________________________________________________________________\n",
      "dropout_1 (Dropout)             (None, 3, 3, 256)    0           max_pooling2d_3[0][0]            \n",
      "__________________________________________________________________________________________________\n",
      "flatten_1 (Flatten)             (None, 2304)         0           dropout_1[0][0]                  \n",
      "__________________________________________________________________________________________________\n",
      "input_2 (InputLayer)            (None, 68, 2)        0                                            \n",
      "__________________________________________________________________________________________________\n",
      "dense_1 (Dense)                 (None, 4096)         9441280     flatten_1[0][0]                  \n",
      "__________________________________________________________________________________________________\n",
      "flatten_2 (Flatten)             (None, 136)          0           input_2[0][0]                    \n",
      "__________________________________________________________________________________________________\n",
      "dropout_2 (Dropout)             (None, 4096)         0           dense_1[0][0]                    \n",
      "__________________________________________________________________________________________________\n",
      "dense_4 (Dense)                 (None, 1024)         140288      flatten_2[0][0]                  \n",
      "__________________________________________________________________________________________________\n",
      "dense_2 (Dense)                 (None, 1024)         4195328     dropout_2[0][0]                  \n",
      "__________________________________________________________________________________________________\n",
      "batch_normalization_5 (BatchNor (None, 1024)         4096        dense_4[0][0]                    \n",
      "__________________________________________________________________________________________________\n",
      "batch_normalization_4 (BatchNor (None, 1024)         4096        dense_2[0][0]                    \n",
      "__________________________________________________________________________________________________\n",
      "dense_5 (Dense)                 (None, 128)          131200      batch_normalization_5[0][0]      \n",
      "__________________________________________________________________________________________________\n",
      "dense_3 (Dense)                 (None, 128)          131200      batch_normalization_4[0][0]      \n",
      "__________________________________________________________________________________________________\n",
      "batch_normalization_6 (BatchNor (None, 128)          512         dense_5[0][0]                    \n",
      "__________________________________________________________________________________________________\n",
      "concatenate_1 (Concatenate)     (None, 256)          0           dense_3[0][0]                    \n",
      "                                                                 batch_normalization_6[0][0]      \n",
      "__________________________________________________________________________________________________\n",
      "dense_6 (Dense)                 (None, 7)            1799        concatenate_1[0][0]              \n",
      "==================================================================================================\n",
      "Total params: 14,421,255\n",
      "Trainable params: 14,416,007\n",
      "Non-trainable params: 5,248\n",
      "__________________________________________________________________________________________________\n"
     ]
    }
   ],
   "source": [
    "# cnn for just the raw pixels\n",
    "# Input layer 1\n",
    "images_nn = Input(shape=(48,48,1))\n",
    "\n",
    "# Layer 1\n",
    "images_conv1 = Conv2D(64, 3, kernel_initializer='he_normal', activation='relu')(images_nn)\n",
    "images_batchnorm1 = BatchNormalization()(images_conv1)\n",
    "images_pool1 = MaxPool2D(pool_size=(3,3), strides=2)(images_batchnorm1)\n",
    "\n",
    "# Layer 2\n",
    "images_conv2 = Conv2D(128, 3, activation='relu')(images_pool1)\n",
    "images_batchnorm2 = BatchNormalization()(images_conv2)\n",
    "images_pool2 = MaxPool2D(pool_size=(3,3), strides=2)(images_batchnorm2)\n",
    "\n",
    "# Layer 3\n",
    "images_conv3 = Conv2D(256, 3, activation='relu')(images_pool2)\n",
    "images_batchnorm3 = BatchNormalization()(images_conv3)\n",
    "images_pool3 = MaxPool2D(pool_size=(3,3), strides=2)(images_batchnorm3)\n",
    "images_dropout1 = Dropout(0.6)(images_pool3)\n",
    "\n",
    "# Flatten\n",
    "images_flat1 = Flatten()(images_dropout1)\n",
    "\n",
    "# Fully Connected Layer 1\n",
    "images_dense1 = Dense(4096, activation='relu')(images_flat1)\n",
    "images_dropout2 = Dropout(0.6)(images_dense1)\n",
    "\n",
    "# Fully Connected Layer 2\n",
    "images_dense2 = Dense(1024, activation='relu')(images_dropout2)\n",
    "images_batchnorm4 = BatchNormalization()(images_dense2)\n",
    "\n",
    "# Fully Connected Layer 3\n",
    "images_dense3 = Dense(128, activation='relu')(images_batchnorm4)\n",
    "\n",
    "\n",
    "# cnn for landmark features\n",
    "# input shape will be 68*2 (from landamrks)\n",
    "# Input Layer\n",
    "landmarks_features_nn = Input(shape=(68,2))\n",
    "\n",
    "# Flatten\n",
    "landmarks_features_flat1 = Flatten()(landmarks_features_nn)\n",
    "\n",
    "# Fully Connected Layer 4\n",
    "landmarks_features_dense1 = Dense(1024, activation='relu')(landmarks_features_flat1)\n",
    "landmarks_features_batchnorm1 = BatchNormalization()(landmarks_features_dense1)\n",
    "\n",
    "# Fully Connected Layer 5\n",
    "landmarks_features_dense2 = Dense(128, activation='relu') (landmarks_features_batchnorm1)\n",
    "landmarks_features_batchnorm2 = BatchNormalization()(landmarks_features_dense2)\n",
    "\n",
    "# merge final outputs from both networks\n",
    "merged_net = keras.layers.merge.concatenate([images_dense3, landmarks_features_batchnorm2],\n",
    "                                           axis=-1)\n",
    "\n",
    "# Output Layer\n",
    "output_layer = Dense(7, activation='softmax')(merged_net)\n",
    "\n",
    "model = Model(inputs=[images_nn, landmarks_features_nn], outputs=output_layer)\n",
    "model.compile(loss='categorical_crossentropy', optimizer='adam', metrics=['accuracy'])\n",
    "model.summary()"
   ]
  },
  {
   "cell_type": "code",
   "execution_count": 11,
   "metadata": {
    "scrolled": true
   },
   "outputs": [
    {
     "name": "stdout",
     "output_type": "stream",
     "text": [
      "Train on 28709 samples, validate on 3589 samples\n",
      "Epoch 1/10\n",
      " - 465s - loss: 1.5616 - acc: 0.4233 - val_loss: 1.9612 - val_acc: 0.3586\n",
      "\n",
      "Epoch 00001: val_loss improved from inf to 1.96117, saving model to cnn_arch2_landmarks\n",
      "Epoch 2/10\n",
      " - 472s - loss: 1.3852 - acc: 0.4719 - val_loss: 1.8763 - val_acc: 0.3695\n",
      "\n",
      "Epoch 00002: val_loss improved from 1.96117 to 1.87634, saving model to cnn_arch2_landmarks\n",
      "Epoch 3/10\n",
      " - 529s - loss: 1.3196 - acc: 0.4980 - val_loss: 3.2307 - val_acc: 0.2026\n",
      "\n",
      "Epoch 00003: val_loss did not improve from 1.87634\n",
      "Epoch 4/10\n",
      " - 541s - loss: 1.2571 - acc: 0.5226 - val_loss: 1.5528 - val_acc: 0.4154\n",
      "\n",
      "Epoch 00004: val_loss improved from 1.87634 to 1.55283, saving model to cnn_arch2_landmarks\n",
      "Epoch 5/10\n",
      " - 522s - loss: 1.2371 - acc: 0.5288 - val_loss: 1.8315 - val_acc: 0.3511\n",
      "\n",
      "Epoch 00005: val_loss did not improve from 1.55283\n",
      "Epoch 6/10\n",
      " - 514s - loss: 1.1722 - acc: 0.5538 - val_loss: 1.8235 - val_acc: 0.3915\n",
      "\n",
      "Epoch 00006: val_loss did not improve from 1.55283\n",
      "Epoch 7/10\n",
      " - 516s - loss: 1.1282 - acc: 0.5739 - val_loss: 1.4518 - val_acc: 0.4812\n",
      "\n",
      "Epoch 00007: val_loss improved from 1.55283 to 1.45179, saving model to cnn_arch2_landmarks\n",
      "Epoch 8/10\n",
      " - 581s - loss: 1.0993 - acc: 0.5847 - val_loss: 1.3136 - val_acc: 0.4990\n",
      "\n",
      "Epoch 00008: val_loss improved from 1.45179 to 1.31363, saving model to cnn_arch2_landmarks\n",
      "Epoch 9/10\n",
      " - 554s - loss: 1.0612 - acc: 0.5985 - val_loss: 1.7037 - val_acc: 0.4196\n",
      "\n",
      "Epoch 00009: val_loss did not improve from 1.31363\n",
      "Epoch 10/10\n",
      " - 521s - loss: 1.0247 - acc: 0.6145 - val_loss: 1.2070 - val_acc: 0.5453\n",
      "\n",
      "Epoch 00010: val_loss improved from 1.31363 to 1.20699, saving model to cnn_arch2_landmarks\n"
     ]
    }
   ],
   "source": [
    "# save best weights\n",
    "checkpoint = ModelCheckpoint(filepath='cnn_arch2_landmarks', verbose=2, save_best_only=True)\n",
    "\n",
    "# num epochs\n",
    "epochs = 10\n",
    "\n",
    "# run model\n",
    "model_history = model.fit([x_train, x_train_landmarks], y_train, epochs=epochs,\n",
    "                 shuffle=True,\n",
    "                 batch_size=100, validation_data=([x_validation, x_validation_landmarks], y_validation),\n",
    "                 callbacks=[checkpoint], verbose=2)\n",
    "\n",
    "# save model to json\n",
    "model_json = model.to_json()\n",
    "with open(\"cnn_arch2_landmarks.json\", \"w\") as json_file:\n",
    "    json_file.write(model_json)"
   ]
  },
  {
   "cell_type": "code",
   "execution_count": 22,
   "metadata": {},
   "outputs": [
    {
     "data": {
      "image/png": "[encoded data removed]",
      "text/plain": [
       "<Figure size 864x288 with 2 Axes>"
      ]
     },
     "metadata": {
      "needs_background": "light"
     },
     "output_type": "display_data"
    }
   ],
   "source": [
    "fig = plt.figure(figsize=(12,4))\n",
    "plt.subplot(1, 2, 1)\n",
    "plt.suptitle('CNN on raw pixel data', fontsize=10)\n",
    "plt.ylabel('Loss', fontsize=16)\n",
    "plt.plot(model_history.history['loss'], color='b', label='Training Loss')\n",
    "plt.plot(model_history.history['val_loss'], color='r', label='Validation Loss')\n",
    "plt.legend(loc='upper right')\n",
    "\n",
    "plt.subplot(1, 2, 2)\n",
    "plt.ylabel('Accuracy', fontsize=16)\n",
    "plt.plot(model_history.history['acc'], color='b', label='Training Accuracy')\n",
    "plt.plot(model_history.history['val_acc'], color='r', label='Validation Accuracy')\n",
    "plt.legend(loc='lower right')\n",
    "plt.show()\n",
    "fig.savefig('Loss_comparison_model_arch2.png')\n"
   ]
  },
  {
   "cell_type": "code",
   "execution_count": 14,
   "metadata": {},
   "outputs": [
    {
     "name": "stdout",
     "output_type": "stream",
     "text": [
      "3589/3589 [==============================] - 15s 4ms/step\n"
     ]
    }
   ],
   "source": [
    "y_predicted_probs = model.predict([x_test, x_test_landmarks], verbose=1)"
   ]
  },
  {
   "cell_type": "code",
   "execution_count": 15,
   "metadata": {},
   "outputs": [
    {
     "name": "stdout",
     "output_type": "stream",
     "text": [
      "3589/3589 [==============================] - 14s 4ms/step\n"
     ]
    }
   ],
   "source": [
    "score = model.evaluate([x_test, x_test_landmarks], y_test, verbose=1)"
   ]
  },
  {
   "cell_type": "code",
   "execution_count": 16,
   "metadata": {},
   "outputs": [
    {
     "name": "stdout",
     "output_type": "stream",
     "text": [
      "Metrics:  ['loss', 'acc']\n",
      "Loss on test data 1.1701981891460425\n",
      "Test Accuracy 0.5583728058287014\n"
     ]
    }
   ],
   "source": [
    "print(\"Metrics: \", model.metrics_names)\n",
    "print(\"Loss on test data\", score[0])\n",
    "print(\"Test Accuracy\", score[1])"
   ]
  },
  {
   "cell_type": "code",
   "execution_count": 17,
   "metadata": {},
   "outputs": [],
   "source": [
    "y_predicted_labels = my_utils.convert_probs_to_labels(y_predicted_probs, labels)\n",
    "y_actual_labels = my_utils.convert_probs_to_labels(y_test, labels)"
   ]
  },
  {
   "cell_type": "code",
   "execution_count": 19,
   "metadata": {},
   "outputs": [
    {
     "name": "stdout",
     "output_type": "stream",
     "text": [
      "Confusion matrix, without normalization\n",
      "[[365   2   7  33  13  54  17]\n",
      " [ 41   6   0   3   0   3   2]\n",
      " [170   0  81  32  17 137  91]\n",
      " [ 48   0  13 730  19  51  18]\n",
      " [189   0   8  58 206 157   8]\n",
      " [170   0  23  49  39 305   8]\n",
      " [ 32   0  17  35   8  13 311]]\n"
     ]
    },
    {
     "data": {
      "image/png": "[encoded data removed]",
      "text/plain": [
       "<Figure size 576x432 with 2 Axes>"
      ]
     },
     "metadata": {
      "needs_background": "light"
     },
     "output_type": "display_data"
    }
   ],
   "source": [
    "cnf_matrix = sklearn.metrics.confusion_matrix(y_actual_labels, y_predicted_labels)\n",
    "np.set_printoptions(precision=2)\n",
    "\n",
    "# Plot non-normalized confusion matrix\n",
    "fig = my_utils.plot_confusion_matrix(cnf_matrix, classes=labels,\n",
    "                                     title='Confusion Matrix for Test Data')\n",
    "plt.show()\n",
    "fig.savefig('confusion_matrix_arch2.png')"
   ]
  },
  {
   "cell_type": "code",
   "execution_count": 20,
   "metadata": {},
   "outputs": [],
   "source": [
    "model.save('model_arch2.h5')"
   ]
  },
  {
   "cell_type": "code",
   "execution_count": 21,
   "metadata": {},
   "outputs": [],
   "source": [
    "keras.utils.plot_model(model, to_file='model_arch2.png', show_shapes=True)"
   ]
  },
  {
   "cell_type": "code",
   "execution_count": null,
   "metadata": {},
   "outputs": [],
   "source": [
    "def test_for_single_image(file_name, model, labels):\n",
    "    image_pixels = cv2.imread(file_name, 0)\n",
    "#     print(len(image_pixels))\n",
    "    image_input = image_pixels.reshape(-1, 48, 48, 1)\n",
    "    predicted_emotion = model.predict(image_input, verbose=0)\n",
    "#     print(predicted_emotion)\n",
    "    print(\"This image is classified to be {} with {:.2f}% confidence\".format(\n",
    "        labels[predicted_emotion.argmax()],predicted_emotion.max()*100))\n",
    "    "
   ]
  },
  {
   "cell_type": "code",
   "execution_count": null,
   "metadata": {},
   "outputs": [],
   "source": [
    "test_for_single_image('100th.jpg', model, labels)"
   ]
  },
  {
   "cell_type": "code",
   "execution_count": null,
   "metadata": {},
   "outputs": [],
   "source": [
    "test_for_single_image('ashok.jpg', model, labels)"
   ]
  },
  {
   "cell_type": "code",
   "execution_count": null,
   "metadata": {},
   "outputs": [],
   "source": [
    "test_for_single_image('ashok2.png', model, labels)"
   ]
  },
  {
   "cell_type": "code",
   "execution_count": null,
   "metadata": {},
   "outputs": [],
   "source": [
    "test_for_single_image('rose2.jpg', model, labels)"
   ]
  },
  {
   "cell_type": "code",
   "execution_count": null,
   "metadata": {},
   "outputs": [],
   "source": [
    "test_for_single_image('rose3.jpg', model, labels)"
   ]
  },
  {
   "cell_type": "code",
   "execution_count": null,
   "metadata": {},
   "outputs": [],
   "source": [
    "test_for_single_image('jose.png', model, labels)"
   ]
  },
  {
   "cell_type": "code",
   "execution_count": null,
   "metadata": {},
   "outputs": [],
   "source": [
    "test_for_single_image('rohit_happy.jpeg', model, labels)"
   ]
  },
  {
   "cell_type": "code",
   "execution_count": null,
   "metadata": {},
   "outputs": [],
   "source": [
    "test_for_single_image('ankita.png', model, labels)"
   ]
  },
  {
   "cell_type": "code",
   "execution_count": null,
   "metadata": {},
   "outputs": [],
   "source": []
  }
 ],
 "metadata": {
  "kernelspec": {
   "display_name": "Python 3",
   "language": "python",
   "name": "python3"
  }
 },
 "nbformat": 4,
 "nbformat_minor": 1
}
