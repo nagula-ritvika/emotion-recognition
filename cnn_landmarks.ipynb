{
 "cells": [
  {
   "cell_type": "code",
   "execution_count": 2,
   "metadata": {},
   "outputs": [
    {
     "name": "stderr",
     "output_type": "stream",
     "text": [
      "Using TensorFlow backend.\n"
     ]
    }
   ],
   "source": [
    "import cv2\n",
    "import dlib\n",
    "import itertools\n",
    "import matplotlib.pyplot as plt\n",
    "%matplotlib inline\n",
    "import numpy as np\n",
    "import pandas as pd\n",
    "\n",
    "import keras\n",
    "from keras.callbacks import ModelCheckpoint\n",
    "from keras.layers import Activation, BatchNormalization, Conv2D, Dense, Dropout, Flatten, Input, MaxPool2D, Reshape\n",
    "from keras.models import Model, Sequential\n",
    "from keras.utils import np_utils\n",
    "from sklearn.metrics import confusion_matrix"
   ]
  },
  {
   "cell_type": "code",
   "execution_count": 3,
   "metadata": {},
   "outputs": [],
   "source": [
    "df = pd.read_csv(\"fer2013.csv\")\n",
    "emotion_labels = {0: \"Angry\", 1: \"Disgust\", 2:\"Fear\", 3:\"Happy\", 4:\"Sad\", 5:\"Surprise\", 6:\"Neutral\"}\n",
    "labels = [\"Angry\", \"Disgust\", \"Fear\", \"Happy\", \"Sad\", \"Surprise\", \"Neutral\"]"
   ]
  },
  {
   "cell_type": "code",
   "execution_count": 4,
   "metadata": {
    "scrolled": true
   },
   "outputs": [
    {
     "data": {
      "text/html": [
       "<div>\n",
       "<style scoped>\n",
       "    .dataframe tbody tr th:only-of-type {\n",
       "        vertical-align: middle;\n",
       "    }\n",
       "\n",
       "    .dataframe tbody tr th {\n",
       "        vertical-align: top;\n",
       "    }\n",
       "\n",
       "    .dataframe thead th {\n",
       "        text-align: right;\n",
       "    }\n",
       "</style>\n",
       "<table border=\"1\" class=\"dataframe\">\n",
       "  <thead>\n",
       "    <tr style=\"text-align: right;\">\n",
       "      <th></th>\n",
       "      <th>emotion</th>\n",
       "      <th>pixels</th>\n",
       "      <th>Usage</th>\n",
       "    </tr>\n",
       "  </thead>\n",
       "  <tbody>\n",
       "    <tr>\n",
       "      <th>0</th>\n",
       "      <td>0</td>\n",
       "      <td>70 80 82 72 58 58 60 63 54 58 60 48 89 115 121...</td>\n",
       "      <td>Training</td>\n",
       "    </tr>\n",
       "    <tr>\n",
       "      <th>1</th>\n",
       "      <td>0</td>\n",
       "      <td>151 150 147 155 148 133 111 140 170 174 182 15...</td>\n",
       "      <td>Training</td>\n",
       "    </tr>\n",
       "    <tr>\n",
       "      <th>2</th>\n",
       "      <td>2</td>\n",
       "      <td>231 212 156 164 174 138 161 173 182 200 106 38...</td>\n",
       "      <td>Training</td>\n",
       "    </tr>\n",
       "    <tr>\n",
       "      <th>3</th>\n",
       "      <td>4</td>\n",
       "      <td>24 32 36 30 32 23 19 20 30 41 21 22 32 34 21 1...</td>\n",
       "      <td>Training</td>\n",
       "    </tr>\n",
       "    <tr>\n",
       "      <th>4</th>\n",
       "      <td>6</td>\n",
       "      <td>4 0 0 0 0 0 0 0 0 0 0 0 3 15 23 28 48 50 58 84...</td>\n",
       "      <td>Training</td>\n",
       "    </tr>\n",
       "  </tbody>\n",
       "</table>\n",
       "</div>"
      ],
      "text/plain": [
       "   emotion                                             pixels     Usage\n",
       "0        0  70 80 82 72 58 58 60 63 54 58 60 48 89 115 121...  Training\n",
       "1        0  151 150 147 155 148 133 111 140 170 174 182 15...  Training\n",
       "2        2  231 212 156 164 174 138 161 173 182 200 106 38...  Training\n",
       "3        4  24 32 36 30 32 23 19 20 30 41 21 22 32 34 21 1...  Training\n",
       "4        6  4 0 0 0 0 0 0 0 0 0 0 0 3 15 23 28 48 50 58 84...  Training"
      ]
     },
     "execution_count": 4,
     "metadata": {},
     "output_type": "execute_result"
    }
   ],
   "source": [
    "df.head()"
   ]
  },
  {
   "cell_type": "code",
   "execution_count": 5,
   "metadata": {},
   "outputs": [
    {
     "data": {
      "text/plain": [
       "Training       28709\n",
       "PrivateTest     3589\n",
       "PublicTest      3589\n",
       "Name: Usage, dtype: int64"
      ]
     },
     "execution_count": 5,
     "metadata": {},
     "output_type": "execute_result"
    }
   ],
   "source": [
    "df[\"Usage\"].value_counts()"
   ]
  },
  {
   "cell_type": "code",
   "execution_count": 6,
   "metadata": {},
   "outputs": [],
   "source": [
    "def process_data(main_df, use):\n",
    "    subset_df = main_df[main_df[\"Usage\"] == use]\n",
    "    subset_df.drop(columns=['Usage'], inplace=True)\n",
    "    subset_df['pixels'] = subset_df['pixels'].apply(lambda pixel_str: np.fromstring(pixel_str, sep=' '))\n",
    "    x = np.vstack(subset_df['pixels'].values)\n",
    "    x = x.reshape(-1, 48, 48, 1)\n",
    "    y = subset_df['emotion'].values\n",
    "    y = np_utils.to_categorical(y)\n",
    "    \n",
    "    return x, y"
   ]
  },
  {
   "cell_type": "code",
   "execution_count": 31,
   "metadata": {},
   "outputs": [],
   "source": [
    "def extract_landmark_features(images_array, flatten=False):\n",
    "    face_landmarks_res = []\n",
    "    # load detector and predictors from dlib\n",
    "    predictor = dlib.shape_predictor('shape_predictor_68_face_landmarks.dat')\n",
    "    \n",
    "    # since our images are already cropped to contain only the face, we don't need to use a detector \n",
    "    rect = [dlib.rectangle(left=1, top=1, right=47, bottom=47)]\n",
    "        \n",
    "    # detect face using openCV i.e cv2\n",
    "    for img in images_array:\n",
    "        cv2.imwrite('temp.jpg', img)\n",
    "        saved_img = cv2.imread('temp.jpg', 0)\n",
    "        face_landmarks = predictor( saved_img, rect[0])\n",
    "        face_landmarks_pixels = np.array([[point.x, point.y] for point in face_landmarks.parts()])\n",
    "        # print(face_landmarks)\n",
    "        face_landmarks_res.append(face_landmarks_pixels)\n",
    "    if flatten:\n",
    "        face_landmarks_res = [res.flatten() for res in face_landmarks_res]\n",
    "    print(face_landmarks_res.shape. face_landmarks_res[0].shape)\n",
    "    return np.asarray(face_landmarks_res)"
   ]
  },
  {
   "cell_type": "code",
   "execution_count": 8,
   "metadata": {},
   "outputs": [
    {
     "name": "stderr",
     "output_type": "stream",
     "text": [
      "/Users/ritvikareddy 1/Documents/GitHub/ml-project/venv/lib/python3.6/site-packages/pandas/core/frame.py:3697: SettingWithCopyWarning: \n",
      "A value is trying to be set on a copy of a slice from a DataFrame\n",
      "\n",
      "See the caveats in the documentation: http://pandas.pydata.org/pandas-docs/stable/indexing.html#indexing-view-versus-copy\n",
      "  errors=errors)\n",
      "/Users/ritvikareddy 1/Documents/GitHub/ml-project/venv/lib/python3.6/site-packages/ipykernel_launcher.py:4: SettingWithCopyWarning: \n",
      "A value is trying to be set on a copy of a slice from a DataFrame.\n",
      "Try using .loc[row_indexer,col_indexer] = value instead\n",
      "\n",
      "See the caveats in the documentation: http://pandas.pydata.org/pandas-docs/stable/indexing.html#indexing-view-versus-copy\n",
      "  after removing the cwd from sys.path.\n"
     ]
    }
   ],
   "source": [
    "# process the training, validation and test data\n",
    "x_train, y_train = process_data(df, 'Training')\n",
    "x_validation, y_validation = process_data(df, 'PublicTest')\n",
    "x_test, y_test = process_data(df, \"PrivateTest\")"
   ]
  },
  {
   "cell_type": "code",
   "execution_count": 32,
   "metadata": {},
   "outputs": [
    {
     "ename": "AttributeError",
     "evalue": "'list' object has no attribute 'shape'",
     "output_type": "error",
     "traceback": [
      "\u001b[0;31m---------------------------------------------------------------------------\u001b[0m",
      "\u001b[0;31mAttributeError\u001b[0m                            Traceback (most recent call last)",
      "\u001b[0;32m<ipython-input-32-e996e39f2151>\u001b[0m in \u001b[0;36m<module>\u001b[0;34m()\u001b[0m\n\u001b[1;32m      1\u001b[0m \u001b[0;31m# get face landmarks\u001b[0m\u001b[0;34m\u001b[0m\u001b[0;34m\u001b[0m\u001b[0m\n\u001b[0;32m----> 2\u001b[0;31m \u001b[0mx_train_landmarks\u001b[0m \u001b[0;34m=\u001b[0m \u001b[0mextract_landmark_features\u001b[0m\u001b[0;34m(\u001b[0m\u001b[0mx_train\u001b[0m\u001b[0;34m)\u001b[0m\u001b[0;34m\u001b[0m\u001b[0m\n\u001b[0m\u001b[1;32m      3\u001b[0m \u001b[0mx_validation_landmarks\u001b[0m \u001b[0;34m=\u001b[0m \u001b[0mextract_landmark_features\u001b[0m\u001b[0;34m(\u001b[0m\u001b[0mx_validation\u001b[0m\u001b[0;34m)\u001b[0m\u001b[0;34m\u001b[0m\u001b[0m\n\u001b[1;32m      4\u001b[0m \u001b[0mx_test_landmarks\u001b[0m \u001b[0;34m=\u001b[0m \u001b[0mextract_landmark_features\u001b[0m\u001b[0;34m(\u001b[0m\u001b[0mx_test\u001b[0m\u001b[0;34m)\u001b[0m\u001b[0;34m\u001b[0m\u001b[0m\n",
      "\u001b[0;32m<ipython-input-31-a87d434a0335>\u001b[0m in \u001b[0;36mextract_landmark_features\u001b[0;34m(images_array, flatten)\u001b[0m\n\u001b[1;32m     17\u001b[0m     \u001b[0;32mif\u001b[0m \u001b[0mflatten\u001b[0m\u001b[0;34m:\u001b[0m\u001b[0;34m\u001b[0m\u001b[0m\n\u001b[1;32m     18\u001b[0m         \u001b[0mface_landmarks_res\u001b[0m \u001b[0;34m=\u001b[0m \u001b[0;34m[\u001b[0m\u001b[0mres\u001b[0m\u001b[0;34m.\u001b[0m\u001b[0mflatten\u001b[0m\u001b[0;34m(\u001b[0m\u001b[0;34m)\u001b[0m \u001b[0;32mfor\u001b[0m \u001b[0mres\u001b[0m \u001b[0;32min\u001b[0m \u001b[0mface_landmarks_res\u001b[0m\u001b[0;34m]\u001b[0m\u001b[0;34m\u001b[0m\u001b[0m\n\u001b[0;32m---> 19\u001b[0;31m     \u001b[0mprint\u001b[0m\u001b[0;34m(\u001b[0m\u001b[0mface_landmarks_res\u001b[0m\u001b[0;34m.\u001b[0m\u001b[0mshape\u001b[0m\u001b[0;34m.\u001b[0m \u001b[0mface_landmarks_res\u001b[0m\u001b[0;34m[\u001b[0m\u001b[0;36m0\u001b[0m\u001b[0;34m]\u001b[0m\u001b[0;34m.\u001b[0m\u001b[0mshape\u001b[0m\u001b[0;34m)\u001b[0m\u001b[0;34m\u001b[0m\u001b[0m\n\u001b[0m\u001b[1;32m     20\u001b[0m     \u001b[0;32mreturn\u001b[0m \u001b[0mnp\u001b[0m\u001b[0;34m.\u001b[0m\u001b[0masarray\u001b[0m\u001b[0;34m(\u001b[0m\u001b[0mface_landmarks_res\u001b[0m\u001b[0;34m)\u001b[0m\u001b[0;34m\u001b[0m\u001b[0m\n",
      "\u001b[0;31mAttributeError\u001b[0m: 'list' object has no attribute 'shape'"
     ]
    }
   ],
   "source": [
    "# get face landmarks\n",
    "x_train_landmarks = extract_landmark_features(x_train)\n",
    "x_validation_landmarks = extract_landmark_features(x_validation)\n",
    "x_test_landmarks = extract_landmark_features(x_test)"
   ]
  },
  {
   "cell_type": "code",
   "execution_count": 10,
   "metadata": {},
   "outputs": [
    {
     "data": {
      "text/plain": [
       "((28709, 48, 48, 1), (28709, 68, 2))"
      ]
     },
     "execution_count": 10,
     "metadata": {},
     "output_type": "execute_result"
    }
   ],
   "source": [
    "x_train.shape, x_train_landmarks.shape"
   ]
  },
  {
   "cell_type": "code",
   "execution_count": 44,
   "metadata": {
    "scrolled": false
   },
   "outputs": [
    {
     "name": "stdout",
     "output_type": "stream",
     "text": [
      "__________________________________________________________________________________________________\n",
      "Layer (type)                    Output Shape         Param #     Connected to                     \n",
      "==================================================================================================\n",
      "input_19 (InputLayer)           (None, 48, 48, 1)    0                                            \n",
      "__________________________________________________________________________________________________\n",
      "conv2d_46 (Conv2D)              (None, 46, 46, 64)   640         input_19[0][0]                   \n",
      "__________________________________________________________________________________________________\n",
      "batch_normalization_73 (BatchNo (None, 46, 46, 64)   256         conv2d_46[0][0]                  \n",
      "__________________________________________________________________________________________________\n",
      "conv2d_47 (Conv2D)              (None, 44, 44, 64)   36928       batch_normalization_73[0][0]     \n",
      "__________________________________________________________________________________________________\n",
      "batch_normalization_74 (BatchNo (None, 44, 44, 64)   256         conv2d_47[0][0]                  \n",
      "__________________________________________________________________________________________________\n",
      "max_pooling2d_19 (MaxPooling2D) (None, 22, 22, 64)   0           batch_normalization_74[0][0]     \n",
      "__________________________________________________________________________________________________\n",
      "dropout_28 (Dropout)            (None, 22, 22, 64)   0           max_pooling2d_19[0][0]           \n",
      "__________________________________________________________________________________________________\n",
      "conv2d_48 (Conv2D)              (None, 20, 20, 32)   18464       dropout_28[0][0]                 \n",
      "__________________________________________________________________________________________________\n",
      "batch_normalization_75 (BatchNo (None, 20, 20, 32)   128         conv2d_48[0][0]                  \n",
      "__________________________________________________________________________________________________\n",
      "conv2d_49 (Conv2D)              (None, 18, 18, 32)   9248        batch_normalization_75[0][0]     \n",
      "__________________________________________________________________________________________________\n",
      "batch_normalization_76 (BatchNo (None, 18, 18, 32)   128         conv2d_49[0][0]                  \n",
      "__________________________________________________________________________________________________\n",
      "conv2d_50 (Conv2D)              (None, 16, 16, 32)   9248        batch_normalization_76[0][0]     \n",
      "__________________________________________________________________________________________________\n",
      "batch_normalization_77 (BatchNo (None, 16, 16, 32)   128         conv2d_50[0][0]                  \n",
      "__________________________________________________________________________________________________\n",
      "max_pooling2d_20 (MaxPooling2D) (None, 8, 8, 32)     0           batch_normalization_77[0][0]     \n",
      "__________________________________________________________________________________________________\n",
      "input_20 (InputLayer)           (None, 68, 2)        0                                            \n",
      "__________________________________________________________________________________________________\n",
      "dropout_29 (Dropout)            (None, 8, 8, 32)     0           max_pooling2d_20[0][0]           \n",
      "__________________________________________________________________________________________________\n",
      "flatten_11 (Flatten)            (None, 136)          0           input_20[0][0]                   \n",
      "__________________________________________________________________________________________________\n",
      "flatten_10 (Flatten)            (None, 2048)         0           dropout_29[0][0]                 \n",
      "__________________________________________________________________________________________________\n",
      "dense_32 (Dense)                (None, 1024)         140288      flatten_11[0][0]                 \n",
      "__________________________________________________________________________________________________\n",
      "dense_31 (Dense)                (None, 128)          262272      flatten_10[0][0]                 \n",
      "__________________________________________________________________________________________________\n",
      "batch_normalization_79 (BatchNo (None, 1024)         4096        dense_32[0][0]                   \n",
      "__________________________________________________________________________________________________\n",
      "batch_normalization_78 (BatchNo (None, 128)          512         dense_31[0][0]                   \n",
      "__________________________________________________________________________________________________\n",
      "dense_33 (Dense)                (None, 128)          131200      batch_normalization_79[0][0]     \n",
      "__________________________________________________________________________________________________\n",
      "dropout_30 (Dropout)            (None, 128)          0           batch_normalization_78[0][0]     \n",
      "__________________________________________________________________________________________________\n",
      "batch_normalization_80 (BatchNo (None, 128)          512         dense_33[0][0]                   \n",
      "__________________________________________________________________________________________________\n",
      "concatenate_10 (Concatenate)    (None, 256)          0           dropout_30[0][0]                 \n",
      "                                                                 batch_normalization_80[0][0]     \n",
      "__________________________________________________________________________________________________\n",
      "dense_34 (Dense)                (None, 7)            1799        concatenate_10[0][0]             \n",
      "==================================================================================================\n",
      "Total params: 616,103\n",
      "Trainable params: 613,095\n",
      "Non-trainable params: 3,008\n",
      "__________________________________________________________________________________________________\n"
     ]
    }
   ],
   "source": [
    "# cnn for just the raw pixels\n",
    "images_nn = Input(shape=(48,48,1))\n",
    "images_conv1 = Conv2D(64, 3, kernel_initializer='he_normal', activation='relu')(images_nn)\n",
    "images_batchnorm1 = BatchNormalization()(images_conv1)\n",
    "\n",
    "images_conv2 = Conv2D(64, 3, activation='relu')(images_batchnorm1)\n",
    "images_batchnorm2 = BatchNormalization()(images_conv2)\n",
    "images_pool1 = MaxPool2D(pool_size=(2,2), strides=2)(images_batchnorm2)\n",
    "images_dropout1 = Dropout(0.6)(images_pool1)\n",
    "\n",
    "images_conv3 = Conv2D(32, 3, activation='relu')(images_dropout1)\n",
    "images_batchnorm3 = BatchNormalization()(images_conv3)\n",
    "\n",
    "images_conv4 = Conv2D(32, 3, activation='relu')(images_batchnorm3)\n",
    "images_batchnorm4 = BatchNormalization()(images_conv4)\n",
    "\n",
    "images_conv5 = Conv2D(32, 3, activation='relu')(images_batchnorm4)\n",
    "images_batchnorm5 = BatchNormalization()(images_conv5)\n",
    "images_pool2 = MaxPool2D(pool_size=(2,2), strides=2)(images_batchnorm5)\n",
    "images_dropout2 = Dropout(0.6)(images_pool2)\n",
    "\n",
    "images_flat1 = Flatten()(images_dropout2)\n",
    "images_dense1 = Dense(128, activation='relu')(images_flat1)\n",
    "images_batchnorm6 = BatchNormalization()(images_dense1)\n",
    "images_dropout3 = Dropout(0.6)(images_batchnorm6)\n",
    "\n",
    "# cnn for landmark features\n",
    "# input shape will be 68*2 (from landamrks)\n",
    "landmarks_features_nn = Input(shape=(68,2))\n",
    "landmarks_features_flat1 = Flatten()(landmarks_features_nn)\n",
    "landmarks_features_dense1 = Dense(1024, activation='relu')(landmarks_features_flat1)\n",
    "landmarks_features_batchnorm1 = BatchNormalization()(landmarks_features_dense1)\n",
    "\n",
    "landmarks_features_dense2 = Dense(128, activation='relu') (landmarks_features_batchnorm1)\n",
    "landmarks_features_batchnorm2 = BatchNormalization()(landmarks_features_dense2)\n",
    "\n",
    "# merge final outputs from both networks\n",
    "merged_net = keras.layers.merge.concatenate([images_dropout3, landmarks_features_batchnorm2],\n",
    "                                           axis=-1)\n",
    "\n",
    "output_layer = Dense(7, activation='softmax')(merged_net)\n",
    "\n",
    "model = Model(inputs=[images_nn, landmarks_features_nn], outputs=output_layer)\n",
    "model.compile(loss='categorical_crossentropy', optimizer='adam', metrics=['accuracy'])\n",
    "model.summary()"
   ]
  },
  {
   "cell_type": "code",
   "execution_count": 46,
   "metadata": {
    "scrolled": true
   },
   "outputs": [
    {
     "name": "stdout",
     "output_type": "stream",
     "text": [
      "Train on 28709 samples, validate on 3589 samples\n",
      "Epoch 1/12\n",
      " - 698s - loss: 1.7855 - acc: 0.3893 - val_loss: 3.4043 - val_acc: 0.3176\n",
      "\n",
      "Epoch 00001: val_loss improved from inf to 3.40427, saving model to cnn_landmarks_4\n",
      "Epoch 2/12\n",
      " - 709s - loss: 1.4601 - acc: 0.4528 - val_loss: 1.7864 - val_acc: 0.3357\n",
      "\n",
      "Epoch 00002: val_loss improved from 3.40427 to 1.78641, saving model to cnn_landmarks_4\n",
      "Epoch 3/12\n",
      " - 919s - loss: 1.3901 - acc: 0.4719 - val_loss: 1.8723 - val_acc: 0.3435\n",
      "\n",
      "Epoch 00003: val_loss did not improve from 1.78641\n",
      "Epoch 4/12\n",
      " - 1092s - loss: 1.3522 - acc: 0.4869 - val_loss: 2.0781 - val_acc: 0.3550\n",
      "\n",
      "Epoch 00004: val_loss did not improve from 1.78641\n",
      "Epoch 5/12\n",
      " - 1187s - loss: 1.3276 - acc: 0.4921 - val_loss: 6.2310 - val_acc: 0.1402\n",
      "\n",
      "Epoch 00005: val_loss did not improve from 1.78641\n",
      "Epoch 6/12\n",
      " - 926s - loss: 1.3158 - acc: 0.4960 - val_loss: 2.7862 - val_acc: 0.1739\n",
      "\n",
      "Epoch 00006: val_loss did not improve from 1.78641\n",
      "Epoch 7/12\n",
      " - 919s - loss: 1.3007 - acc: 0.5055 - val_loss: 2.8043 - val_acc: 0.2784\n",
      "\n",
      "Epoch 00007: val_loss did not improve from 1.78641\n",
      "Epoch 8/12\n",
      " - 830s - loss: 1.2866 - acc: 0.5095 - val_loss: 2.5880 - val_acc: 0.3031\n",
      "\n",
      "Epoch 00008: val_loss did not improve from 1.78641\n",
      "Epoch 9/12\n",
      " - 974s - loss: 1.2676 - acc: 0.5188 - val_loss: 2.3808 - val_acc: 0.2132\n",
      "\n",
      "Epoch 00009: val_loss did not improve from 1.78641\n",
      "Epoch 10/12\n",
      " - 894s - loss: 1.2504 - acc: 0.5273 - val_loss: 1.8753 - val_acc: 0.3761\n",
      "\n",
      "Epoch 00010: val_loss did not improve from 1.78641\n",
      "Epoch 11/12\n",
      " - 811s - loss: 1.2287 - acc: 0.5309 - val_loss: 1.8441 - val_acc: 0.3497\n",
      "\n",
      "Epoch 00011: val_loss did not improve from 1.78641\n",
      "Epoch 12/12\n",
      " - 738s - loss: 1.2183 - acc: 0.5361 - val_loss: 3.2930 - val_acc: 0.2533\n",
      "\n",
      "Epoch 00012: val_loss did not improve from 1.78641\n"
     ]
    }
   ],
   "source": [
    "# save best weights\n",
    "checkpoint = ModelCheckpoint(filepath='cnn_landmarks_4', verbose=1, save_best_only=True)\n",
    "\n",
    "# num epochs\n",
    "epochs = 12\n",
    "\n",
    "# run model\n",
    "model_history = model.fit(\n",
    "    [x_train, x_train_landmarks], y_train, epochs=epochs, shuffle=True, batch_size=100,\n",
    "    validation_data=([x_validation, x_validation_landmarks], y_validation),\n",
    "    callbacks=[checkpoint], verbose=2)\n",
    "\n",
    "# save model to json\n",
    "model_json = model.to_json()\n",
    "with open(\"cnn_landmarks4.json\", \"w\") as json_file:\n",
    "    json_file.write(model_json)"
   ]
  },
  {
   "cell_type": "code",
   "execution_count": 47,
   "metadata": {},
   "outputs": [
    {
     "data": {
      "image/png": "[encoded data removed]",
      "text/plain": [
       "<Figure size 864x288 with 2 Axes>"
      ]
     },
     "metadata": {
      "needs_background": "light"
     },
     "output_type": "display_data"
    }
   ],
   "source": [
    "plt.figure(figsize=(12,4))\n",
    "plt.subplot(1, 2, 1)\n",
    "plt.suptitle('CNN on raw pixel data', fontsize=10)\n",
    "plt.ylabel('Loss', fontsize=16)\n",
    "plt.plot(model_history.history['loss'], color='b', label='Training Loss')\n",
    "plt.plot(model_history.history['val_loss'], color='r', label='Validation Loss')\n",
    "plt.legend(loc='upper right')\n",
    "\n",
    "plt.subplot(1, 2, 2)\n",
    "plt.ylabel('Accuracy', fontsize=16)\n",
    "plt.plot(model_history.history['acc'], color='b', label='Training Accuracy')\n",
    "plt.plot(model_history.history['val_acc'], color='r', label='Validation Accuracy')\n",
    "plt.legend(loc='lower right')\n",
    "plt.show()"
   ]
  },
  {
   "cell_type": "code",
   "execution_count": 49,
   "metadata": {},
   "outputs": [
    {
     "name": "stdout",
     "output_type": "stream",
     "text": [
      "3589/3589 [==============================] - 30s 8ms/step\n"
     ]
    }
   ],
   "source": [
    "y_predicted_probs = model.predict([x_test, x_test_landmarks], verbose=1)"
   ]
  },
  {
   "cell_type": "code",
   "execution_count": 50,
   "metadata": {},
   "outputs": [
    {
     "name": "stdout",
     "output_type": "stream",
     "text": [
      "3589/3589 [==============================] - 22s 6ms/step\n"
     ]
    }
   ],
   "source": [
    "score = model.evaluate([x_test, x_test_landmarks], y_test, verbose=1)"
   ]
  },
  {
   "cell_type": "code",
   "execution_count": 51,
   "metadata": {},
   "outputs": [
    {
     "name": "stdout",
     "output_type": "stream",
     "text": [
      "Metrics:  ['loss', 'acc']\n",
      "Loss on test data 3.3261061906482423\n",
      "Test Accuracy 0.2429646140986347\n"
     ]
    }
   ],
   "source": [
    "print(\"Metrics: \", model.metrics_names)\n",
    "print(\"Loss on test data\", score[0])\n",
    "print(\"Test Accuracy\", score[1])"
   ]
  },
  {
   "cell_type": "code",
   "execution_count": null,
   "metadata": {},
   "outputs": [],
   "source": [
    "def convert_probs_to_labels(y_probs, labels):\n",
    "    predicted_label = lambda x: labels[x.argmax()]\n",
    "    return [predicted_label(each) for each in y_probs]"
   ]
  },
  {
   "cell_type": "code",
   "execution_count": null,
   "metadata": {},
   "outputs": [],
   "source": [
    "y_predicted_labels = convert_probs_to_labels(y_predicted_probs, labels)\n",
    "y_actual_labels = convert_probs_to_labels(y_test, labels)"
   ]
  },
  {
   "cell_type": "code",
   "execution_count": null,
   "metadata": {},
   "outputs": [],
   "source": [
    "# https://scikit-learn.org/stable/auto_examples/model_selection/plot_confusion_matrix.html\n",
    "def plot_confusion_matrix(cm, classes,\n",
    "                          normalize=False,\n",
    "                          title='Confusion matrix',\n",
    "                          cmap=plt.cm.Blues):\n",
    "    \"\"\"\n",
    "    This function prints and plots the confusion matrix.\n",
    "    Normalization can be applied by setting `normalize=True`.\n",
    "    \"\"\"\n",
    "    if normalize:\n",
    "        cm = cm.astype('float') / cm.sum(axis=1)[:, np.newaxis]\n",
    "        print(\"Normalized confusion matrix\")\n",
    "    else:\n",
    "        print('Confusion matrix, without normalization')\n",
    "\n",
    "    print(cm)\n",
    "\n",
    "    plt.imshow(cm, interpolation='nearest', cmap=cmap)\n",
    "    plt.title(title)\n",
    "    plt.colorbar()\n",
    "    tick_marks = np.arange(len(classes))\n",
    "    plt.xticks(tick_marks, classes, rotation=45)\n",
    "    plt.yticks(tick_marks, classes)\n",
    "\n",
    "    fmt = '.2f' if normalize else 'd'\n",
    "    thresh = cm.max() / 2.\n",
    "    for i, j in itertools.product(range(cm.shape[0]), range(cm.shape[1])):\n",
    "        plt.text(j, i, format(cm[i, j], fmt),\n",
    "                 horizontalalignment=\"center\",\n",
    "                 color=\"white\" if cm[i, j] > thresh else \"black\")\n",
    "\n",
    "    plt.ylabel('True label')\n",
    "    plt.xlabel('Predicted label')\n",
    "    plt.tight_layout()\n",
    "    \n",
    "cnf_matrix = confusion_matrix(y_actual_labels, y_predicted_labels)\n",
    "np.set_printoptions(precision=2)\n",
    "\n",
    "# Plot non-normalized confusion matrix\n",
    "fig = plt.figure(figsize=(8,6))\n",
    "plot_confusion_matrix(cnf_matrix, classes=labels,\n",
    "                      title='Confusion Matrix for Test Data with Raw Pixels and HoG features')\n",
    "plt.show()\n",
    "fig.savefig('confusion_matrix_hog.png')"
   ]
  },
  {
   "cell_type": "code",
   "execution_count": null,
   "metadata": {},
   "outputs": [],
   "source": [
    "def test_for_single_image(file_name, model, labels):\n",
    "    image_pixels = cv2.imread(file_name, 0)\n",
    "#     print(len(image_pixels))\n",
    "    image_input = image_pixels.reshape(-1, 48, 48, 1)\n",
    "    predicted_emotion = model.predict(image_input, verbose=0)\n",
    "#     print(predicted_emotion)\n",
    "    print(\"This image is classified to be {} with {:.2f}% confidence\".format(\n",
    "        labels[predicted_emotion.argmax()],predicted_emotion.max()*100))\n",
    "    "
   ]
  },
  {
   "cell_type": "code",
   "execution_count": null,
   "metadata": {},
   "outputs": [],
   "source": [
    "test_for_single_image('100th.jpg', model, labels)"
   ]
  },
  {
   "cell_type": "code",
   "execution_count": null,
   "metadata": {},
   "outputs": [],
   "source": [
    "test_for_single_image('ashok.jpg', model, labels)"
   ]
  },
  {
   "cell_type": "code",
   "execution_count": null,
   "metadata": {},
   "outputs": [],
   "source": [
    "test_for_single_image('ashok2.png', model, labels)"
   ]
  },
  {
   "cell_type": "code",
   "execution_count": null,
   "metadata": {},
   "outputs": [],
   "source": [
    "test_for_single_image('rose2.jpg', model, labels)"
   ]
  },
  {
   "cell_type": "code",
   "execution_count": null,
   "metadata": {},
   "outputs": [],
   "source": [
    "test_for_single_image('rose3.jpg', model, labels)"
   ]
  },
  {
   "cell_type": "code",
   "execution_count": null,
   "metadata": {},
   "outputs": [],
   "source": [
    "test_for_single_image('jose.png', model, labels)"
   ]
  },
  {
   "cell_type": "code",
   "execution_count": null,
   "metadata": {},
   "outputs": [],
   "source": [
    "test_for_single_image('rohit_happy.jpeg', model, labels)"
   ]
  },
  {
   "cell_type": "code",
   "execution_count": null,
   "metadata": {},
   "outputs": [],
   "source": [
    "test_for_single_image('ankita.png', model, labels)"
   ]
  }
 ],
 "metadata": {
  "kernelspec": {
   "display_name": "Python 3",
   "language": "python",
   "name": "python3"
  },
  "language_info": {
   "codemirror_mode": {
    "name": "ipython",
    "version": 3
   },
   "file_extension": ".py",
   "mimetype": "text/x-python",
   "name": "python",
   "nbconvert_exporter": "python",
   "pygments_lexer": "ipython3",
   "version": "3.6.0"
  }
 },
 "nbformat": 4,
 "nbformat_minor": 1
}
