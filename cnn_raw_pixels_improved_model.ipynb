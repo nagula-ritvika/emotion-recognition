{
 "cells": [
  {
   "cell_type": "code",
   "execution_count": 109,
   "metadata": {},
   "outputs": [],
   "source": [
    "import cv2\n",
    "import itertools\n",
    "import matplotlib.pyplot as plt\n",
    "%matplotlib inline\n",
    "import numpy as np\n",
    "import pandas as pd\n",
    "\n",
    "\n",
    "import keras\n",
    "from keras.callbacks import ModelCheckpoint\n",
    "from keras.layers import Activation, BatchNormalization, Conv2D, Dense, Dropout, Flatten, MaxPool2D, Reshape\n",
    "from keras.models import Sequential\n",
    "from keras.utils import np_utils\n",
    "\n",
    "from sklearn.metrics import confusion_matrix"
   ]
  },
  {
   "cell_type": "code",
   "execution_count": 2,
   "metadata": {},
   "outputs": [],
   "source": [
    "df = pd.read_csv(\"fer2013.csv\")\n",
    "emotion_labels = {0: \"Angry\", 1: \"Disgust\", 2:\"Fear\", 3:\"Happy\", 4:\"Sad\", 5:\"Surprise\", 6:\"Neutral\"}\n",
    "labels = [\"Angry\", \"Disgust\", \"Fear\", \"Happy\", \"Sad\", \"Surprise\", \"Neutral\"]"
   ]
  },
  {
   "cell_type": "code",
   "execution_count": 3,
   "metadata": {
    "scrolled": true
   },
   "outputs": [
    {
     "data": {
      "text/html": [
       "<div>\n",
       "<style scoped>\n",
       "    .dataframe tbody tr th:only-of-type {\n",
       "        vertical-align: middle;\n",
       "    }\n",
       "\n",
       "    .dataframe tbody tr th {\n",
       "        vertical-align: top;\n",
       "    }\n",
       "\n",
       "    .dataframe thead th {\n",
       "        text-align: right;\n",
       "    }\n",
       "</style>\n",
       "<table border=\"1\" class=\"dataframe\">\n",
       "  <thead>\n",
       "    <tr style=\"text-align: right;\">\n",
       "      <th></th>\n",
       "      <th>emotion</th>\n",
       "      <th>pixels</th>\n",
       "      <th>Usage</th>\n",
       "    </tr>\n",
       "  </thead>\n",
       "  <tbody>\n",
       "    <tr>\n",
       "      <th>0</th>\n",
       "      <td>0</td>\n",
       "      <td>70 80 82 72 58 58 60 63 54 58 60 48 89 115 121...</td>\n",
       "      <td>Training</td>\n",
       "    </tr>\n",
       "    <tr>\n",
       "      <th>1</th>\n",
       "      <td>0</td>\n",
       "      <td>151 150 147 155 148 133 111 140 170 174 182 15...</td>\n",
       "      <td>Training</td>\n",
       "    </tr>\n",
       "    <tr>\n",
       "      <th>2</th>\n",
       "      <td>2</td>\n",
       "      <td>231 212 156 164 174 138 161 173 182 200 106 38...</td>\n",
       "      <td>Training</td>\n",
       "    </tr>\n",
       "    <tr>\n",
       "      <th>3</th>\n",
       "      <td>4</td>\n",
       "      <td>24 32 36 30 32 23 19 20 30 41 21 22 32 34 21 1...</td>\n",
       "      <td>Training</td>\n",
       "    </tr>\n",
       "    <tr>\n",
       "      <th>4</th>\n",
       "      <td>6</td>\n",
       "      <td>4 0 0 0 0 0 0 0 0 0 0 0 3 15 23 28 48 50 58 84...</td>\n",
       "      <td>Training</td>\n",
       "    </tr>\n",
       "  </tbody>\n",
       "</table>\n",
       "</div>"
      ],
      "text/plain": [
       "   emotion                                             pixels     Usage\n",
       "0        0  70 80 82 72 58 58 60 63 54 58 60 48 89 115 121...  Training\n",
       "1        0  151 150 147 155 148 133 111 140 170 174 182 15...  Training\n",
       "2        2  231 212 156 164 174 138 161 173 182 200 106 38...  Training\n",
       "3        4  24 32 36 30 32 23 19 20 30 41 21 22 32 34 21 1...  Training\n",
       "4        6  4 0 0 0 0 0 0 0 0 0 0 0 3 15 23 28 48 50 58 84...  Training"
      ]
     },
     "execution_count": 3,
     "metadata": {},
     "output_type": "execute_result"
    }
   ],
   "source": [
    "df.head()"
   ]
  },
  {
   "cell_type": "code",
   "execution_count": 4,
   "metadata": {},
   "outputs": [
    {
     "data": {
      "text/plain": [
       "Training       28709\n",
       "PrivateTest     3589\n",
       "PublicTest      3589\n",
       "Name: Usage, dtype: int64"
      ]
     },
     "execution_count": 4,
     "metadata": {},
     "output_type": "execute_result"
    }
   ],
   "source": [
    "df[\"Usage\"].value_counts()"
   ]
  },
  {
   "cell_type": "code",
   "execution_count": 5,
   "metadata": {},
   "outputs": [],
   "source": [
    "def process_data(main_df, use):\n",
    "    subset_df = main_df[main_df[\"Usage\"] == use]\n",
    "    subset_df.drop(columns=['Usage'], inplace=True)\n",
    "    subset_df['pixels'] = subset_df['pixels'].apply(lambda pixel_str: np.fromstring(pixel_str, sep=' '))\n",
    "    x = np.vstack(subset_df['pixels'].values)\n",
    "    x = x.reshape(-1, 48, 48, 1)\n",
    "    y = subset_df['emotion'].values\n",
    "    y = np_utils.to_categorical(y)\n",
    "    \n",
    "    return x, y"
   ]
  },
  {
   "cell_type": "code",
   "execution_count": 6,
   "metadata": {},
   "outputs": [
    {
     "name": "stderr",
     "output_type": "stream",
     "text": [
      "/Users/ritvikareddy 1/Documents/GitHub/ml-project/venv/lib/python3.6/site-packages/pandas/core/frame.py:3697: SettingWithCopyWarning: \n",
      "A value is trying to be set on a copy of a slice from a DataFrame\n",
      "\n",
      "See the caveats in the documentation: http://pandas.pydata.org/pandas-docs/stable/indexing.html#indexing-view-versus-copy\n",
      "  errors=errors)\n",
      "/Users/ritvikareddy 1/Documents/GitHub/ml-project/venv/lib/python3.6/site-packages/ipykernel_launcher.py:4: SettingWithCopyWarning: \n",
      "A value is trying to be set on a copy of a slice from a DataFrame.\n",
      "Try using .loc[row_indexer,col_indexer] = value instead\n",
      "\n",
      "See the caveats in the documentation: http://pandas.pydata.org/pandas-docs/stable/indexing.html#indexing-view-versus-copy\n",
      "  after removing the cwd from sys.path.\n"
     ]
    }
   ],
   "source": [
    "x_train, y_train = process_data(df, 'Training')\n",
    "x_validation, y_validation = process_data(df, 'PublicTest')"
   ]
  },
  {
   "cell_type": "code",
   "execution_count": 7,
   "metadata": {},
   "outputs": [
    {
     "data": {
      "text/plain": [
       "(3589, 48, 48, 1)"
      ]
     },
     "execution_count": 7,
     "metadata": {},
     "output_type": "execute_result"
    }
   ],
   "source": [
    "x_validation.shape"
   ]
  },
  {
   "cell_type": "code",
   "execution_count": 12,
   "metadata": {},
   "outputs": [
    {
     "name": "stdout",
     "output_type": "stream",
     "text": [
      "_________________________________________________________________\n",
      "Layer (type)                 Output Shape              Param #   \n",
      "=================================================================\n",
      "conv2d_12 (Conv2D)           (None, 46, 46, 64)        640       \n",
      "_________________________________________________________________\n",
      "batch_normalization_12 (Batc (None, 46, 46, 64)        256       \n",
      "_________________________________________________________________\n",
      "conv2d_13 (Conv2D)           (None, 44, 44, 64)        36928     \n",
      "_________________________________________________________________\n",
      "batch_normalization_13 (Batc (None, 44, 44, 64)        256       \n",
      "_________________________________________________________________\n",
      "max_pooling2d_5 (MaxPooling2 (None, 22, 22, 64)        0         \n",
      "_________________________________________________________________\n",
      "dropout_6 (Dropout)          (None, 22, 22, 64)        0         \n",
      "_________________________________________________________________\n",
      "conv2d_14 (Conv2D)           (None, 20, 20, 32)        18464     \n",
      "_________________________________________________________________\n",
      "batch_normalization_14 (Batc (None, 20, 20, 32)        128       \n",
      "_________________________________________________________________\n",
      "conv2d_15 (Conv2D)           (None, 18, 18, 32)        9248      \n",
      "_________________________________________________________________\n",
      "batch_normalization_15 (Batc (None, 18, 18, 32)        128       \n",
      "_________________________________________________________________\n",
      "conv2d_16 (Conv2D)           (None, 16, 16, 32)        9248      \n",
      "_________________________________________________________________\n",
      "batch_normalization_16 (Batc (None, 16, 16, 32)        128       \n",
      "_________________________________________________________________\n",
      "max_pooling2d_6 (MaxPooling2 (None, 8, 8, 32)          0         \n",
      "_________________________________________________________________\n",
      "dropout_7 (Dropout)          (None, 8, 8, 32)          0         \n",
      "_________________________________________________________________\n",
      "flatten_3 (Flatten)          (None, 2048)              0         \n",
      "_________________________________________________________________\n",
      "dense_4 (Dense)              (None, 128)               262272    \n",
      "_________________________________________________________________\n",
      "batch_normalization_17 (Batc (None, 128)               512       \n",
      "_________________________________________________________________\n",
      "dropout_8 (Dropout)          (None, 128)               0         \n",
      "_________________________________________________________________\n",
      "dense_5 (Dense)              (None, 7)                 903       \n",
      "=================================================================\n",
      "Total params: 339,111\n",
      "Trainable params: 338,407\n",
      "Non-trainable params: 704\n",
      "_________________________________________________________________\n"
     ]
    }
   ],
   "source": [
    "model = Sequential()\n",
    "\n",
    "model.add(Conv2D(64, 3, data_format=\"channels_last\", kernel_initializer=\"he_normal\", \n",
    "                 input_shape=(48, 48, 1), activation='relu'))\n",
    "model.add(BatchNormalization())\n",
    "# model.add(Activation(\"relu\"))\n",
    "\n",
    "model.add(Conv2D(64, 3, activation='relu'))\n",
    "model.add(BatchNormalization())\n",
    "# model.add(Activation(\"relu\"))\n",
    "model.add(MaxPool2D(pool_size=(2, 2), strides=2))\n",
    "model.add(Dropout(0.6))\n",
    "\n",
    "model.add(Conv2D(32, 3, activation='relu'))\n",
    "model.add(BatchNormalization())\n",
    "# model.add(Activation(\"relu\"))\n",
    "\n",
    "model.add(Conv2D(32, 3, activation='relu'))\n",
    "model.add(BatchNormalization())\n",
    "# model.add(Activation(\"relu\"))\n",
    "\n",
    "model.add(Conv2D(32, 3, activation='relu'))\n",
    "model.add(BatchNormalization())\n",
    "# model.add(Activation(\"relu\"))\n",
    "model.add(MaxPool2D(pool_size=(2, 2), strides=2))\n",
    "model.add(Dropout(0.6))\n",
    "\n",
    "model.add(Flatten())\n",
    "model.add(Dense(128, activation='relu'))\n",
    "model.add(BatchNormalization())\n",
    "# model.add(Activation(\"relu\"))\n",
    "model.add(Dropout(0.6))\n",
    "\n",
    "model.add(Dense(7, activation='softmax'))\n",
    "# model.add(Activation('softmax'))\n",
    "\n",
    "model.compile(loss='categorical_crossentropy', optimizer='adam', metrics=['accuracy'])\n",
    "model.summary()"
   ]
  },
  {
   "cell_type": "code",
   "execution_count": 13,
   "metadata": {
    "scrolled": true
   },
   "outputs": [
    {
     "name": "stdout",
     "output_type": "stream",
     "text": [
      "Train on 28709 samples, validate on 3589 samples\n",
      "Epoch 1/20\n",
      " - 822s - loss: 2.2867 - acc: 0.2326 - val_loss: 1.7288 - val_acc: 0.3430\n",
      "\n",
      "Epoch 00001: val_loss improved from inf to 1.72882, saving model to cnn_basic_2\n",
      "Epoch 2/20\n",
      " - 876s - loss: 1.8152 - acc: 0.3280 - val_loss: 1.5551 - val_acc: 0.4076\n",
      "\n",
      "Epoch 00002: val_loss improved from 1.72882 to 1.55515, saving model to cnn_basic_2\n",
      "Epoch 3/20\n",
      " - 711s - loss: 1.6171 - acc: 0.3877 - val_loss: 1.4444 - val_acc: 0.4469\n",
      "\n",
      "Epoch 00003: val_loss improved from 1.55515 to 1.44443, saving model to cnn_basic_2\n",
      "Epoch 4/20\n",
      " - 756s - loss: 1.5024 - acc: 0.4237 - val_loss: 1.3749 - val_acc: 0.4723\n",
      "\n",
      "Epoch 00004: val_loss improved from 1.44443 to 1.37489, saving model to cnn_basic_2\n",
      "Epoch 5/20\n",
      " - 735s - loss: 1.4244 - acc: 0.4528 - val_loss: 1.3138 - val_acc: 0.4909\n",
      "\n",
      "Epoch 00005: val_loss improved from 1.37489 to 1.31375, saving model to cnn_basic_2\n",
      "Epoch 6/20\n",
      " - 728s - loss: 1.3769 - acc: 0.4701 - val_loss: 1.2855 - val_acc: 0.5057\n",
      "\n",
      "Epoch 00006: val_loss improved from 1.31375 to 1.28552, saving model to cnn_basic_2\n",
      "Epoch 7/20\n",
      " - 733s - loss: 1.3352 - acc: 0.4888 - val_loss: 1.2684 - val_acc: 0.5166\n",
      "\n",
      "Epoch 00007: val_loss improved from 1.28552 to 1.26842, saving model to cnn_basic_2\n",
      "Epoch 8/20\n",
      " - 809s - loss: 1.3035 - acc: 0.4995 - val_loss: 1.2186 - val_acc: 0.5305\n",
      "\n",
      "Epoch 00008: val_loss improved from 1.26842 to 1.21862, saving model to cnn_basic_2\n",
      "Epoch 9/20\n",
      " - 760s - loss: 1.2777 - acc: 0.5094 - val_loss: 1.1922 - val_acc: 0.5405\n",
      "\n",
      "Epoch 00009: val_loss improved from 1.21862 to 1.19216, saving model to cnn_basic_2\n",
      "Epoch 10/20\n",
      " - 691s - loss: 1.2487 - acc: 0.5239 - val_loss: 1.1783 - val_acc: 0.5511\n",
      "\n",
      "Epoch 00010: val_loss improved from 1.19216 to 1.17832, saving model to cnn_basic_2\n",
      "Epoch 11/20\n",
      " - 687s - loss: 1.2288 - acc: 0.5296 - val_loss: 1.1628 - val_acc: 0.5525\n",
      "\n",
      "Epoch 00011: val_loss improved from 1.17832 to 1.16282, saving model to cnn_basic_2\n",
      "Epoch 12/20\n",
      " - 657s - loss: 1.2101 - acc: 0.5367 - val_loss: 1.1661 - val_acc: 0.5628\n",
      "\n",
      "Epoch 00012: val_loss did not improve from 1.16282\n",
      "Epoch 13/20\n",
      " - 652s - loss: 1.1891 - acc: 0.5475 - val_loss: 1.1377 - val_acc: 0.5692\n",
      "\n",
      "Epoch 00013: val_loss improved from 1.16282 to 1.13772, saving model to cnn_basic_2\n",
      "Epoch 14/20\n",
      " - 692s - loss: 1.1771 - acc: 0.5519 - val_loss: 1.1291 - val_acc: 0.5770\n",
      "\n",
      "Epoch 00014: val_loss improved from 1.13772 to 1.12908, saving model to cnn_basic_2\n",
      "Epoch 15/20\n",
      " - 722s - loss: 1.1677 - acc: 0.5577 - val_loss: 1.1201 - val_acc: 0.5687\n",
      "\n",
      "Epoch 00015: val_loss improved from 1.12908 to 1.12009, saving model to cnn_basic_2\n",
      "Epoch 16/20\n",
      " - 832s - loss: 1.1467 - acc: 0.5664 - val_loss: 1.1186 - val_acc: 0.5729\n",
      "\n",
      "Epoch 00016: val_loss improved from 1.12009 to 1.11857, saving model to cnn_basic_2\n",
      "Epoch 17/20\n",
      " - 1026s - loss: 1.1330 - acc: 0.5715 - val_loss: 1.1470 - val_acc: 0.5681\n",
      "\n",
      "Epoch 00017: val_loss did not improve from 1.11857\n",
      "Epoch 18/20\n",
      " - 947s - loss: 1.1253 - acc: 0.5747 - val_loss: 1.0925 - val_acc: 0.5865\n",
      "\n",
      "Epoch 00018: val_loss improved from 1.11857 to 1.09246, saving model to cnn_basic_2\n",
      "Epoch 19/20\n",
      " - 1005s - loss: 1.1182 - acc: 0.5784 - val_loss: 1.0951 - val_acc: 0.5890\n",
      "\n",
      "Epoch 00019: val_loss did not improve from 1.09246\n",
      "Epoch 20/20\n",
      " - 748s - loss: 1.1093 - acc: 0.5827 - val_loss: 1.0831 - val_acc: 0.5885\n",
      "\n",
      "Epoch 00020: val_loss improved from 1.09246 to 1.08306, saving model to cnn_basic_2\n"
     ]
    }
   ],
   "source": [
    "# save best weights\n",
    "checkpoint = ModelCheckpoint(filepath='cnn_basic_2', verbose=1, save_best_only=True)\n",
    "\n",
    "# num epochs\n",
    "epochs = 20\n",
    "\n",
    "# run model\n",
    "model_history = model.fit(x_train, y_train, epochs=epochs,\n",
    "                 shuffle=True,\n",
    "                 batch_size=100, validation_data=(x_validation, y_validation),\n",
    "                 callbacks=[checkpoint], verbose=2)\n",
    "\n",
    "# save model to json\n",
    "model_json = model.to_json()\n",
    "with open(\"cnn2.json\", \"w\") as json_file:\n",
    "    json_file.write(model_json)"
   ]
  },
  {
   "cell_type": "code",
   "execution_count": 15,
   "metadata": {},
   "outputs": [
    {
     "data": {
      "image/png": "[encoded data removed]",
      "text/plain": [
       "<Figure size 864x288 with 2 Axes>"
      ]
     },
     "metadata": {
      "needs_background": "light"
     },
     "output_type": "display_data"
    }
   ],
   "source": [
    "plt.figure(figsize=(12,4))\n",
    "plt.subplot(1, 2, 1)\n",
    "plt.suptitle('CNN on raw pixel data', fontsize=10)\n",
    "plt.ylabel('Loss', fontsize=16)\n",
    "plt.plot(model_history.history['loss'], color='b', label='Training Loss')\n",
    "plt.plot(model_history.history['val_loss'], color='r', label='Validation Loss')\n",
    "plt.legend(loc='upper right')\n",
    "\n",
    "plt.subplot(1, 2, 2)\n",
    "plt.ylabel('Accuracy', fontsize=16)\n",
    "plt.plot(model_history.history['acc'], color='b', label='Training Accuracy')\n",
    "plt.plot(model_history.history['val_acc'], color='r', label='Validation Accuracy')\n",
    "plt.legend(loc='lower right')\n",
    "plt.show()"
   ]
  },
  {
   "cell_type": "code",
   "execution_count": 16,
   "metadata": {},
   "outputs": [
    {
     "name": "stderr",
     "output_type": "stream",
     "text": [
      "/Users/ritvikareddy 1/Documents/GitHub/ml-project/venv/lib/python3.6/site-packages/pandas/core/frame.py:3697: SettingWithCopyWarning: \n",
      "A value is trying to be set on a copy of a slice from a DataFrame\n",
      "\n",
      "See the caveats in the documentation: http://pandas.pydata.org/pandas-docs/stable/indexing.html#indexing-view-versus-copy\n",
      "  errors=errors)\n",
      "/Users/ritvikareddy 1/Documents/GitHub/ml-project/venv/lib/python3.6/site-packages/ipykernel_launcher.py:4: SettingWithCopyWarning: \n",
      "A value is trying to be set on a copy of a slice from a DataFrame.\n",
      "Try using .loc[row_indexer,col_indexer] = value instead\n",
      "\n",
      "See the caveats in the documentation: http://pandas.pydata.org/pandas-docs/stable/indexing.html#indexing-view-versus-copy\n",
      "  after removing the cwd from sys.path.\n"
     ]
    },
    {
     "name": "stdout",
     "output_type": "stream",
     "text": [
      "3589/3589 [==============================] - 20s 5ms/step\n"
     ]
    }
   ],
   "source": [
    "x_test, y_test = process_data(df, \"PrivateTest\")\n",
    "y_predicted_probs = model.predict(x_test, verbose=1)"
   ]
  },
  {
   "cell_type": "code",
   "execution_count": 17,
   "metadata": {},
   "outputs": [
    {
     "name": "stdout",
     "output_type": "stream",
     "text": [
      "3589/3589 [==============================] - 19s 5ms/step\n"
     ]
    }
   ],
   "source": [
    "score = model.evaluate(x_test, y_test, verbose=1)"
   ]
  },
  {
   "cell_type": "code",
   "execution_count": 18,
   "metadata": {},
   "outputs": [
    {
     "name": "stdout",
     "output_type": "stream",
     "text": [
      "Metrics:  ['loss', 'acc']\n",
      "Loss on test data 1.0537144673770766\n",
      "Test Accuracy 0.6062970187013679\n"
     ]
    }
   ],
   "source": [
    "print(\"Metrics: \", model.metrics_names)\n",
    "print(\"Loss on test data\", score[0])\n",
    "print(\"Test Accuracy\", score[1])"
   ]
  },
  {
   "cell_type": "code",
   "execution_count": 33,
   "metadata": {},
   "outputs": [],
   "source": [
    "def convert_probs_to_labels(y_probs, labels):\n",
    "    predicted_label = lambda x: labels[x.argmax()]\n",
    "    return [predicted_label(each) for each in y_probs]"
   ]
  },
  {
   "cell_type": "code",
   "execution_count": 34,
   "metadata": {},
   "outputs": [],
   "source": [
    "y_predicted_labels = convert_probs_to_labels(y_predicted_probs, labels)\n",
    "y_actual_labels = convert_probs_to_labels(y_test, labels)"
   ]
  },
  {
   "cell_type": "code",
   "execution_count": 116,
   "metadata": {},
   "outputs": [
    {
     "name": "stdout",
     "output_type": "stream",
     "text": [
      "Confusion matrix, without normalization\n",
      "[[239   1  40  47  47 106  11]\n",
      " [ 24  12   6   3   1   7   2]\n",
      " [ 73   1 145  31  54 154  70]\n",
      " [ 21   0  22 757  30  36  13]\n",
      " [ 35   1  25  44 366 141  14]\n",
      " [ 51   0  56  43  96 341   7]\n",
      " [  9   1  37  33  11   9 316]]\n"
     ]
    },
    {
     "data": {
      "image/png": "[encoded data removed]",
      "text/plain": [
       "<Figure size 576x432 with 2 Axes>"
      ]
     },
     "metadata": {
      "needs_background": "light"
     },
     "output_type": "display_data"
    }
   ],
   "source": [
    "# https://scikit-learn.org/stable/auto_examples/model_selection/plot_confusion_matrix.html\n",
    "def plot_confusion_matrix(cm, classes,\n",
    "                          normalize=False,\n",
    "                          title='Confusion matrix',\n",
    "                          cmap=plt.cm.Blues):\n",
    "    \"\"\"\n",
    "    This function prints and plots the confusion matrix.\n",
    "    Normalization can be applied by setting `normalize=True`.\n",
    "    \"\"\"\n",
    "    if normalize:\n",
    "        cm = cm.astype('float') / cm.sum(axis=1)[:, np.newaxis]\n",
    "        print(\"Normalized confusion matrix\")\n",
    "    else:\n",
    "        print('Confusion matrix, without normalization')\n",
    "\n",
    "    print(cm)\n",
    "\n",
    "    plt.imshow(cm, interpolation='nearest', cmap=cmap)\n",
    "    plt.title(title)\n",
    "    plt.colorbar()\n",
    "    tick_marks = np.arange(len(classes))\n",
    "    plt.xticks(tick_marks, classes, rotation=45)\n",
    "    plt.yticks(tick_marks, classes)\n",
    "\n",
    "    fmt = '.2f' if normalize else 'd'\n",
    "    thresh = cm.max() / 2.\n",
    "    for i, j in itertools.product(range(cm.shape[0]), range(cm.shape[1])):\n",
    "        plt.text(j, i, format(cm[i, j], fmt),\n",
    "                 horizontalalignment=\"center\",\n",
    "                 color=\"white\" if cm[i, j] > thresh else \"black\")\n",
    "\n",
    "    plt.ylabel('True label')\n",
    "    plt.xlabel('Predicted label')\n",
    "    plt.tight_layout()\n",
    "    \n",
    "cnf_matrix = confusion_matrix(y_actual_labels, y_predicted_labels)\n",
    "np.set_printoptions(precision=2)\n",
    "\n",
    "# Plot non-normalized confusion matrix\n",
    "fig = plt.figure(figsize=(8,6))\n",
    "plot_confusion_matrix(cnf_matrix, classes=labels,\n",
    "                      title='Confusion Matrix for Test Data')\n",
    "plt.show()\n",
    "fig.savefig('confusion_matrix.png')"
   ]
  },
  {
   "cell_type": "code",
   "execution_count": 98,
   "metadata": {},
   "outputs": [],
   "source": [
    "def test_for_single_image(file_name, model, labels):\n",
    "    image_pixels = cv2.imread(file_name, 0)\n",
    "#     print(len(image_pixels))\n",
    "    image_input = image_pixels.reshape(-1, 48, 48, 1)\n",
    "    predicted_emotion = model.predict(image_input, verbose=0)\n",
    "#     print(predicted_emotion)\n",
    "    print(\"This image is classified to be {} with {:.2f}% confidence\".format(\n",
    "        labels[predicted_emotion.argmax()],predicted_emotion.max()*100))\n",
    "    "
   ]
  },
  {
   "cell_type": "code",
   "execution_count": 99,
   "metadata": {},
   "outputs": [
    {
     "name": "stdout",
     "output_type": "stream",
     "text": [
      "This image is classified to be Surprise with 77.75% confidence\n"
     ]
    }
   ],
   "source": [
    "test_for_single_image('100th.jpg', model, labels)"
   ]
  },
  {
   "cell_type": "code",
   "execution_count": 100,
   "metadata": {},
   "outputs": [
    {
     "name": "stdout",
     "output_type": "stream",
     "text": [
      "This image is classified to be Neutral with 48.55% confidence\n"
     ]
    }
   ],
   "source": [
    "test_for_single_image('ashok.jpg', model, labels)"
   ]
  },
  {
   "cell_type": "code",
   "execution_count": 101,
   "metadata": {},
   "outputs": [
    {
     "name": "stdout",
     "output_type": "stream",
     "text": [
      "This image is classified to be Happy with 48.40% confidence\n"
     ]
    }
   ],
   "source": [
    "test_for_single_image('ashok2.png', model, labels)"
   ]
  },
  {
   "cell_type": "code",
   "execution_count": 102,
   "metadata": {},
   "outputs": [
    {
     "name": "stdout",
     "output_type": "stream",
     "text": [
      "This image is classified to be Happy with 66.34% confidence\n"
     ]
    }
   ],
   "source": [
    "test_for_single_image('rose2.jpg', model, labels)"
   ]
  },
  {
   "cell_type": "code",
   "execution_count": 103,
   "metadata": {},
   "outputs": [
    {
     "name": "stdout",
     "output_type": "stream",
     "text": [
      "This image is classified to be Happy with 81.39% confidence\n"
     ]
    }
   ],
   "source": [
    "test_for_single_image('rose3.jpg', model, labels)"
   ]
  },
  {
   "cell_type": "code",
   "execution_count": 104,
   "metadata": {},
   "outputs": [
    {
     "name": "stdout",
     "output_type": "stream",
     "text": [
      "This image is classified to be Happy with 97.59% confidence\n"
     ]
    }
   ],
   "source": [
    "test_for_single_image('jose.png', model, labels)"
   ]
  },
  {
   "cell_type": "code",
   "execution_count": 105,
   "metadata": {},
   "outputs": [
    {
     "name": "stdout",
     "output_type": "stream",
     "text": [
      "This image is classified to be Neutral with 47.17% confidence\n"
     ]
    }
   ],
   "source": [
    "test_for_single_image('rohit_happy.jpeg', model, labels)"
   ]
  },
  {
   "cell_type": "code",
   "execution_count": 106,
   "metadata": {},
   "outputs": [
    {
     "name": "stdout",
     "output_type": "stream",
     "text": [
      "This image is classified to be Happy with 98.19% confidence\n"
     ]
    }
   ],
   "source": [
    "test_for_single_image('ankita.png', model, labels)"
   ]
  },
  {
   "cell_type": "code",
   "execution_count": 117,
   "metadata": {},
   "outputs": [],
   "source": [
    "model.save('expression_recognition_model.h5')"
   ]
  },
  {
   "cell_type": "code",
   "execution_count": null,
   "metadata": {},
   "outputs": [],
   "source": []
  }
 ],
 "metadata": {
  "kernelspec": {
   "display_name": "Python 3",
   "language": "python",
   "name": "python3"
  },
  "language_info": {
   "codemirror_mode": {
    "name": "ipython",
    "version": 3
   },
   "file_extension": ".py",
   "mimetype": "text/x-python",
   "name": "python",
   "nbconvert_exporter": "python",
   "pygments_lexer": "ipython3",
   "version": "3.6.0"
  }
 },
 "nbformat": 4,
 "nbformat_minor": 1
}
